{
  "nbformat": 4,
  "nbformat_minor": 0,
  "metadata": {
    "colab": {
      "name": "220121(금)_알고리즘/자료구조",
      "provenance": [],
      "authorship_tag": "ABX9TyM/7gm7SX+TSlSUJknp/y1N",
      "include_colab_link": true
    },
    "kernelspec": {
      "name": "python3",
      "display_name": "Python 3"
    },
    "language_info": {
      "name": "python"
    }
  },
  "cells": [
    {
      "cell_type": "markdown",
      "metadata": {
        "id": "view-in-github",
        "colab_type": "text"
      },
      "source": [
        "<a href=\"https://colab.research.google.com/github/hmink1/Algorithm-DataStructure/blob/main/220121(%EA%B8%88)_%EC%95%8C%EA%B3%A0%EB%A6%AC%EC%A6%98_%EC%9E%90%EB%A3%8C%EA%B5%AC%EC%A1%B0.ipynb\" target=\"_parent\"><img src=\"https://colab.research.google.com/assets/colab-badge.svg\" alt=\"Open In Colab\"/></a>"
      ]
    },
    {
      "cell_type": "code",
      "execution_count": 41,
      "metadata": {
        "id": "hmgndCdqEGA0"
      },
      "outputs": [],
      "source": [
        "# 알고리즘(algorithm):\n",
        "# 문제를 해결하기 위한 처리 절차를 주체적인 순서에 따라 표현한 아이디어나 생각\n",
        "# 알고리즘 자체는 일상생활에서도 많이 사용되고 있다.\n",
        "# ex) 요리의 레시피, 음악의 악보, 가전제품 사용설명서\n",
        "\n",
        "# 알고리즘을 프로그래밍 언어로(파이썬, 자바, C) 기술하면 프로그램이다.\n",
        "# 알고리즘을 작성하는 방법에는 프로그래밍 언어, pseudo code, 흐름도 있다.\n"
      ]
    },
    {
      "cell_type": "code",
      "source": [
        "# 1부터 n까지 정수의 합을 구하는 알고리즘:\n",
        "\n",
        "# 1부터 n까지의 정수\n",
        "# 1+2의 결과 3을 기억\n",
        "# 기억해둔 3에 다음숫자인 3을 더한 6 기억\n",
        "# 기억해둔 6에 다음숫자인 4를 더한 10 기억\n",
        "#..............다음숫자인 10을 더한 55 기억\n",
        "# 마지막 저장한 숫자를 출력\n",
        "\n",
        "s = 0  # 값을 누적시킬 변수\n",
        "n = 100 # 더할 마지막 수\n",
        "\n",
        "for i in range(1,n+1):\n",
        "  s += i   # s = s+ i\n",
        "print(s)"
      ],
      "metadata": {
        "colab": {
          "base_uri": "https://localhost:8080/"
        },
        "id": "pRUTyh08ILGd",
        "outputId": "ffae1b04-0e2c-42fd-dd28-48bd2bde7837"
      },
      "execution_count": 4,
      "outputs": [
        {
          "output_type": "stream",
          "name": "stdout",
          "text": [
            "5050\n"
          ]
        }
      ]
    },
    {
      "cell_type": "code",
      "source": [
        "def sum_m(m):\n",
        "  return m*(m+1)//2\n",
        "\n",
        "print(sum_m(10))  "
      ],
      "metadata": {
        "colab": {
          "base_uri": "https://localhost:8080/"
        },
        "id": "nYaKoVi6JivA",
        "outputId": "79f10146-7ca9-4109-87c1-f0e98ab39953"
      },
      "execution_count": 6,
      "outputs": [
        {
          "output_type": "stream",
          "name": "stdout",
          "text": [
            "55\n"
          ]
        }
      ]
    },
    {
      "cell_type": "code",
      "source": [
        "# 최대값 찾기 알고리즘:\n",
        "\n",
        "# 전체 리스트의 갯수를 구한다.\n",
        "# 일단, 첫번째(index 0번째)값을 최대값이라고 가정한다.\n",
        "# 두번째 값을 첫번째값과 비교하여 둘 중 큰값을 다시 최대값으로 설정한다.\n",
        "# 세번째 값을 다시 임시 최대값과 비교하여 최대값으로 설정한다.\n",
        "\n",
        "def find_max(a):\n",
        "  n=len(a)\n",
        "  mx=a[0]\n",
        "  for i in range (1,n):\n",
        "    if a[i] > mx:\n",
        "      mx = a[i]\n",
        "  return mx\n",
        "\n",
        "print(find_max([4,6,8,1,3,9])) "
      ],
      "metadata": {
        "colab": {
          "base_uri": "https://localhost:8080/"
        },
        "id": "7KwqevesKl8g",
        "outputId": "70c9dd5e-c921-4e52-fece-c61099450588"
      },
      "execution_count": 9,
      "outputs": [
        {
          "output_type": "stream",
          "name": "stdout",
          "text": [
            "9\n"
          ]
        }
      ]
    },
    {
      "cell_type": "code",
      "source": [
        "# 자료구조 ex) stack, queue\n",
        "\n",
        "# stack 스택: LIFO (Last in First out)\n",
        "#             데이터가 입력되면 순서대로 쌓고 나중에 들어온 것부터 먼저 나간다.\n",
        "def stack():\n",
        "  stacklist=[]\n",
        "\n",
        "  stacklist.append(1)\n",
        "  stacklist.append(2)\n",
        "  stacklist.append(3)\n",
        "  stacklist.append(4)\n",
        "  stacklist.append(5)\n",
        "  while stacklist:\n",
        "     print('pop value is', stacklist.pop())\n",
        "\n",
        "stack()\n"
      ],
      "metadata": {
        "colab": {
          "base_uri": "https://localhost:8080/"
        },
        "id": "YwHHIiFgNXTs",
        "outputId": "4c1b81c5-5a87-4f78-c7be-60ce9e940c98"
      },
      "execution_count": 16,
      "outputs": [
        {
          "output_type": "stream",
          "name": "stdout",
          "text": [
            "pop value is 5\n",
            "pop value is 4\n",
            "pop value is 3\n",
            "pop value is 2\n",
            "pop value is 1\n"
          ]
        }
      ]
    },
    {
      "cell_type": "code",
      "source": [
        "# stack 활용 ex) 브라우저 뒤로가기 버튼\n",
        "list=[]\n",
        "while True:\n",
        "  site = input('방문할 사이트 주소를 입력(이전 사이트는 back): ')\n",
        "  if site != 'back':\n",
        "    list.append(site)\n",
        "  else: \n",
        "    list.pop()\n",
        "\n",
        "  if len(list) !=0:\n",
        "    print('현재 방문 중인 사이트는', list[-1], '입니다.')\n",
        "  else:\n",
        "    print('방문 중인 사이트가 현재 없습니다.')\n"
      ],
      "metadata": {
        "colab": {
          "base_uri": "https://localhost:8080/",
          "height": 775
        },
        "id": "cN02z1gqOb66",
        "outputId": "a6aa42b3-2bc5-4a96-9a69-e9a5b9f1f2f6"
      },
      "execution_count": 15,
      "outputs": [
        {
          "output_type": "stream",
          "name": "stdout",
          "text": [
            "방문할 사이트 주소를 입력(이전 사이트는 back): naver.com\n",
            "현재 방문 중인 사이트는 naver.com 입니다.\n",
            "방문할 사이트 주소를 입력(이전 사이트는 back): daum.net\n",
            "현재 방문 중인 사이트는 daum.net 입니다.\n",
            "방문할 사이트 주소를 입력(이전 사이트는 back): google.com\n",
            "현재 방문 중인 사이트는 google.com 입니다.\n",
            "방문할 사이트 주소를 입력(이전 사이트는 back): back\n",
            "현재 방문 중인 사이트는 daum.net 입니다.\n",
            "방문할 사이트 주소를 입력(이전 사이트는 back): back\n",
            "현재 방문 중인 사이트는 naver.com 입니다.\n",
            "방문할 사이트 주소를 입력(이전 사이트는 back): back\n",
            "방문 중인 사이트가 현재 없습니다.\n"
          ]
        },
        {
          "output_type": "error",
          "ename": "KeyboardInterrupt",
          "evalue": "ignored",
          "traceback": [
            "\u001b[0;31m---------------------------------------------------------------------------\u001b[0m",
            "\u001b[0;31mKeyboardInterrupt\u001b[0m                         Traceback (most recent call last)",
            "\u001b[0;32m/usr/local/lib/python3.7/dist-packages/ipykernel/kernelbase.py\u001b[0m in \u001b[0;36m_input_request\u001b[0;34m(self, prompt, ident, parent, password)\u001b[0m\n\u001b[1;32m    728\u001b[0m             \u001b[0;32mtry\u001b[0m\u001b[0;34m:\u001b[0m\u001b[0;34m\u001b[0m\u001b[0;34m\u001b[0m\u001b[0m\n\u001b[0;32m--> 729\u001b[0;31m                 \u001b[0mident\u001b[0m\u001b[0;34m,\u001b[0m \u001b[0mreply\u001b[0m \u001b[0;34m=\u001b[0m \u001b[0mself\u001b[0m\u001b[0;34m.\u001b[0m\u001b[0msession\u001b[0m\u001b[0;34m.\u001b[0m\u001b[0mrecv\u001b[0m\u001b[0;34m(\u001b[0m\u001b[0mself\u001b[0m\u001b[0;34m.\u001b[0m\u001b[0mstdin_socket\u001b[0m\u001b[0;34m,\u001b[0m \u001b[0;36m0\u001b[0m\u001b[0;34m)\u001b[0m\u001b[0;34m\u001b[0m\u001b[0;34m\u001b[0m\u001b[0m\n\u001b[0m\u001b[1;32m    730\u001b[0m             \u001b[0;32mexcept\u001b[0m \u001b[0mException\u001b[0m\u001b[0;34m:\u001b[0m\u001b[0;34m\u001b[0m\u001b[0;34m\u001b[0m\u001b[0m\n",
            "\u001b[0;32m/usr/local/lib/python3.7/dist-packages/jupyter_client/session.py\u001b[0m in \u001b[0;36mrecv\u001b[0;34m(self, socket, mode, content, copy)\u001b[0m\n\u001b[1;32m    802\u001b[0m         \u001b[0;32mtry\u001b[0m\u001b[0;34m:\u001b[0m\u001b[0;34m\u001b[0m\u001b[0;34m\u001b[0m\u001b[0m\n\u001b[0;32m--> 803\u001b[0;31m             \u001b[0mmsg_list\u001b[0m \u001b[0;34m=\u001b[0m \u001b[0msocket\u001b[0m\u001b[0;34m.\u001b[0m\u001b[0mrecv_multipart\u001b[0m\u001b[0;34m(\u001b[0m\u001b[0mmode\u001b[0m\u001b[0;34m,\u001b[0m \u001b[0mcopy\u001b[0m\u001b[0;34m=\u001b[0m\u001b[0mcopy\u001b[0m\u001b[0;34m)\u001b[0m\u001b[0;34m\u001b[0m\u001b[0;34m\u001b[0m\u001b[0m\n\u001b[0m\u001b[1;32m    804\u001b[0m         \u001b[0;32mexcept\u001b[0m \u001b[0mzmq\u001b[0m\u001b[0;34m.\u001b[0m\u001b[0mZMQError\u001b[0m \u001b[0;32mas\u001b[0m \u001b[0me\u001b[0m\u001b[0;34m:\u001b[0m\u001b[0;34m\u001b[0m\u001b[0;34m\u001b[0m\u001b[0m\n",
            "\u001b[0;32m/usr/local/lib/python3.7/dist-packages/zmq/sugar/socket.py\u001b[0m in \u001b[0;36mrecv_multipart\u001b[0;34m(self, flags, copy, track)\u001b[0m\n\u001b[1;32m    624\u001b[0m         \"\"\"\n\u001b[0;32m--> 625\u001b[0;31m         \u001b[0mparts\u001b[0m \u001b[0;34m=\u001b[0m \u001b[0;34m[\u001b[0m\u001b[0mself\u001b[0m\u001b[0;34m.\u001b[0m\u001b[0mrecv\u001b[0m\u001b[0;34m(\u001b[0m\u001b[0mflags\u001b[0m\u001b[0;34m,\u001b[0m \u001b[0mcopy\u001b[0m\u001b[0;34m=\u001b[0m\u001b[0mcopy\u001b[0m\u001b[0;34m,\u001b[0m \u001b[0mtrack\u001b[0m\u001b[0;34m=\u001b[0m\u001b[0mtrack\u001b[0m\u001b[0;34m)\u001b[0m\u001b[0;34m]\u001b[0m\u001b[0;34m\u001b[0m\u001b[0;34m\u001b[0m\u001b[0m\n\u001b[0m\u001b[1;32m    626\u001b[0m         \u001b[0;31m# have first part already, only loop while more to receive\u001b[0m\u001b[0;34m\u001b[0m\u001b[0;34m\u001b[0m\u001b[0;34m\u001b[0m\u001b[0m\n",
            "\u001b[0;32mzmq/backend/cython/socket.pyx\u001b[0m in \u001b[0;36mzmq.backend.cython.socket.Socket.recv\u001b[0;34m()\u001b[0m\n",
            "\u001b[0;32mzmq/backend/cython/socket.pyx\u001b[0m in \u001b[0;36mzmq.backend.cython.socket.Socket.recv\u001b[0;34m()\u001b[0m\n",
            "\u001b[0;32mzmq/backend/cython/socket.pyx\u001b[0m in \u001b[0;36mzmq.backend.cython.socket._recv_copy\u001b[0;34m()\u001b[0m\n",
            "\u001b[0;32m/usr/local/lib/python3.7/dist-packages/zmq/backend/cython/checkrc.pxd\u001b[0m in \u001b[0;36mzmq.backend.cython.checkrc._check_rc\u001b[0;34m()\u001b[0m\n",
            "\u001b[0;31mKeyboardInterrupt\u001b[0m: ",
            "\nDuring handling of the above exception, another exception occurred:\n",
            "\u001b[0;31mKeyboardInterrupt\u001b[0m                         Traceback (most recent call last)",
            "\u001b[0;32m<ipython-input-15-32843c43d92c>\u001b[0m in \u001b[0;36m<module>\u001b[0;34m()\u001b[0m\n\u001b[1;32m      2\u001b[0m \u001b[0mlist\u001b[0m\u001b[0;34m=\u001b[0m\u001b[0;34m[\u001b[0m\u001b[0;34m]\u001b[0m\u001b[0;34m\u001b[0m\u001b[0;34m\u001b[0m\u001b[0m\n\u001b[1;32m      3\u001b[0m \u001b[0;32mwhile\u001b[0m \u001b[0;32mTrue\u001b[0m\u001b[0;34m:\u001b[0m\u001b[0;34m\u001b[0m\u001b[0;34m\u001b[0m\u001b[0m\n\u001b[0;32m----> 4\u001b[0;31m   \u001b[0msite\u001b[0m \u001b[0;34m=\u001b[0m \u001b[0minput\u001b[0m\u001b[0;34m(\u001b[0m\u001b[0;34m'방문할 사이트 주소를 입력(이전 사이트는 back): '\u001b[0m\u001b[0;34m)\u001b[0m\u001b[0;34m\u001b[0m\u001b[0;34m\u001b[0m\u001b[0m\n\u001b[0m\u001b[1;32m      5\u001b[0m   \u001b[0;32mif\u001b[0m \u001b[0msite\u001b[0m \u001b[0;34m!=\u001b[0m \u001b[0;34m'back'\u001b[0m\u001b[0;34m:\u001b[0m\u001b[0;34m\u001b[0m\u001b[0;34m\u001b[0m\u001b[0m\n\u001b[1;32m      6\u001b[0m     \u001b[0mlist\u001b[0m\u001b[0;34m.\u001b[0m\u001b[0mappend\u001b[0m\u001b[0;34m(\u001b[0m\u001b[0msite\u001b[0m\u001b[0;34m)\u001b[0m\u001b[0;34m\u001b[0m\u001b[0;34m\u001b[0m\u001b[0m\n",
            "\u001b[0;32m/usr/local/lib/python3.7/dist-packages/ipykernel/kernelbase.py\u001b[0m in \u001b[0;36mraw_input\u001b[0;34m(self, prompt)\u001b[0m\n\u001b[1;32m    702\u001b[0m             \u001b[0mself\u001b[0m\u001b[0;34m.\u001b[0m\u001b[0m_parent_ident\u001b[0m\u001b[0;34m,\u001b[0m\u001b[0;34m\u001b[0m\u001b[0;34m\u001b[0m\u001b[0m\n\u001b[1;32m    703\u001b[0m             \u001b[0mself\u001b[0m\u001b[0;34m.\u001b[0m\u001b[0m_parent_header\u001b[0m\u001b[0;34m,\u001b[0m\u001b[0;34m\u001b[0m\u001b[0;34m\u001b[0m\u001b[0m\n\u001b[0;32m--> 704\u001b[0;31m             \u001b[0mpassword\u001b[0m\u001b[0;34m=\u001b[0m\u001b[0;32mFalse\u001b[0m\u001b[0;34m,\u001b[0m\u001b[0;34m\u001b[0m\u001b[0;34m\u001b[0m\u001b[0m\n\u001b[0m\u001b[1;32m    705\u001b[0m         )\n\u001b[1;32m    706\u001b[0m \u001b[0;34m\u001b[0m\u001b[0m\n",
            "\u001b[0;32m/usr/local/lib/python3.7/dist-packages/ipykernel/kernelbase.py\u001b[0m in \u001b[0;36m_input_request\u001b[0;34m(self, prompt, ident, parent, password)\u001b[0m\n\u001b[1;32m    732\u001b[0m             \u001b[0;32mexcept\u001b[0m \u001b[0mKeyboardInterrupt\u001b[0m\u001b[0;34m:\u001b[0m\u001b[0;34m\u001b[0m\u001b[0;34m\u001b[0m\u001b[0m\n\u001b[1;32m    733\u001b[0m                 \u001b[0;31m# re-raise KeyboardInterrupt, to truncate traceback\u001b[0m\u001b[0;34m\u001b[0m\u001b[0;34m\u001b[0m\u001b[0;34m\u001b[0m\u001b[0m\n\u001b[0;32m--> 734\u001b[0;31m                 \u001b[0;32mraise\u001b[0m \u001b[0mKeyboardInterrupt\u001b[0m\u001b[0;34m\u001b[0m\u001b[0;34m\u001b[0m\u001b[0m\n\u001b[0m\u001b[1;32m    735\u001b[0m             \u001b[0;32melse\u001b[0m\u001b[0;34m:\u001b[0m\u001b[0;34m\u001b[0m\u001b[0;34m\u001b[0m\u001b[0m\n\u001b[1;32m    736\u001b[0m                 \u001b[0;32mbreak\u001b[0m\u001b[0;34m\u001b[0m\u001b[0;34m\u001b[0m\u001b[0m\n",
            "\u001b[0;31mKeyboardInterrupt\u001b[0m: "
          ]
        }
      ]
    },
    {
      "cell_type": "code",
      "source": [
        "# queue 큐 FIFO (First in First out):\n",
        "#       데이터가 입력되면 그 순서대로 쌓고 들어온 것부터 먼저 나가는 자료구조\n",
        "\n",
        "def queue():\n",
        "  qlist = []\n",
        "  qlist.append(1)\n",
        "  qlist.append(2)\n",
        "  qlist.append(3)\n",
        "  qlist.append(4)\n",
        "  qlist.append(5)\n",
        "\n",
        "  while qlist:\n",
        "    print(\"Get Value: \", qlist.pop(0))\n",
        "queue()"
      ],
      "metadata": {
        "colab": {
          "base_uri": "https://localhost:8080/"
        },
        "id": "3l-8qiLDXwz8",
        "outputId": "be1e0f11-c3db-4ec1-97b9-df2d667b70ca"
      },
      "execution_count": 18,
      "outputs": [
        {
          "output_type": "stream",
          "name": "stdout",
          "text": [
            "Get Value:  1\n",
            "Get Value:  2\n",
            "Get Value:  3\n",
            "Get Value:  4\n",
            "Get Value:  5\n"
          ]
        }
      ]
    },
    {
      "cell_type": "code",
      "source": [
        "# queue 활용 ex) 프린터로 출력하기\n",
        "\n",
        "list = []\n",
        "\n",
        "while True:\n",
        "  fname = input('출력할 파일을 입력하세요(0을 누르면 출력시작)')\n",
        "  if fname != '0': #input은 str으로 받아들이기 때문에 주의!\n",
        "    list.append(fname)\n",
        "  else:\n",
        "    print('출력을 시작합니다.')\n",
        "    no =1\n",
        "    while list:\n",
        "      print(no,'번째 파일을 출력합니다.',list.pop(0))\n",
        "      no +=1\n",
        "    print('모든 파일 출력을 완료하였습니다.')\n",
        "    break"
      ],
      "metadata": {
        "colab": {
          "base_uri": "https://localhost:8080/"
        },
        "id": "VQJdjcq0Y1S3",
        "outputId": "5e2a6499-3428-4a85-d199-225ba4d90726"
      },
      "execution_count": 21,
      "outputs": [
        {
          "output_type": "stream",
          "name": "stdout",
          "text": [
            "출력할 파일을 입력하세요(0을 누르면 출력시작)doc1.hwp\n",
            "출력할 파일을 입력하세요(0을 누르면 출력시작)doc2.hwp\n",
            "출력할 파일을 입력하세요(0을 누르면 출력시작)doc3.hwp\n",
            "출력할 파일을 입력하세요(0을 누르면 출력시작)0\n",
            "출력을 시작합니다.\n",
            "1 번째 파일을 출력합니다. doc1.hwp\n",
            "2 번째 파일을 출력합니다. doc2.hwp\n",
            "3 번째 파일을 출력합니다. doc3.hwp\n",
            "모든 파일 출력을 완료하였습니다.\n"
          ]
        }
      ]
    },
    {
      "cell_type": "code",
      "source": [
        "# palindrome인지 확인하는 프로그램 만들기\n",
        "# 리스트 두개 만들고 하나는 큐로 하나는 스택으로 뽑아서 비교\n",
        "\n",
        "def palin(s):\n",
        "  qu=[]\n",
        "  st=[]\n",
        "  for x in s:\n",
        "    if x.isalpha():\n",
        "      qu.append(x.lower())\n",
        "      st.append(x.lower())\n",
        "  while qu:\n",
        "    if qu.pop(0) == st.pop():\n",
        "      return True     \n",
        "    else:\n",
        "      return False\n",
        "      \n",
        "print(palin('woow'))"
      ],
      "metadata": {
        "colab": {
          "base_uri": "https://localhost:8080/"
        },
        "id": "6gsfV4hmZrKR",
        "outputId": "73082b1d-2376-4842-e1b7-71b627ba5839"
      },
      "execution_count": 35,
      "outputs": [
        {
          "output_type": "stream",
          "name": "stdout",
          "text": [
            "True\n"
          ]
        }
      ]
    },
    {
      "cell_type": "code",
      "source": [
        "#괄호의 짝이 맞는지 확인하는 프로그램 만들기\n",
        "open=['(']\n",
        "close=[')']\n",
        "\n",
        "a = input('확인을 원하는 수식을 입력하세요')\n",
        "def check(a):\n",
        "  stack=[]\n",
        "  for x in a:\n",
        "    if x == '(':\n",
        "      stack.append(x)\n",
        "    elif x == ')':\n",
        "      if len(stack)==0:\n",
        "        print('No')\n",
        "        return\n",
        "      else:\n",
        "        stack.pop()\n",
        "  if len(stack) == 0:\n",
        "    print('Yes')\n",
        "    return\n",
        "  else:\n",
        "    print('No')\n",
        "    return\n",
        "     \n",
        "\n",
        "check(a)\n"
      ],
      "metadata": {
        "colab": {
          "base_uri": "https://localhost:8080/"
        },
        "id": "2iqgo_L1hiul",
        "outputId": "847feec6-7bbd-411b-827c-ae964d2b704e"
      },
      "execution_count": 40,
      "outputs": [
        {
          "output_type": "stream",
          "name": "stdout",
          "text": [
            "확인을 원하는 수식을 입력하세요((2-345)\n",
            "No\n"
          ]
        }
      ]
    }
  ]
}